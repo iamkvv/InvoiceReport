{
  "nbformat": 4,
  "nbformat_minor": 0,
  "metadata": {
    "colab": {
      "name": "Untitled0.ipynb",
      "provenance": [],
      "collapsed_sections": [],
      "authorship_tag": "ABX9TyPKuZ0k/Z10FCil/IsM6j88",
      "include_colab_link": true
    },
    "kernelspec": {
      "name": "python3",
      "display_name": "Python 3"
    }
  },
  "cells": [
    {
      "cell_type": "markdown",
      "metadata": {
        "id": "view-in-github",
        "colab_type": "text"
      },
      "source": [
        "<a href=\"https://colab.research.google.com/github/iamkvv/InvoiceReport/blob/master/Untitled0.ipynb\" target=\"_parent\"><img src=\"https://colab.research.google.com/assets/colab-badge.svg\" alt=\"Open In Colab\"/></a>"
      ]
    },
    {
      "cell_type": "code",
      "metadata": {
        "id": "vSg3D3I9Msbb"
      },
      "source": [
        "a=9\r\n",
        "class test():\r\n",
        "  def __init__(self):\r\n",
        "    self.prop1=123\r\n",
        "  def ch(self):\r\n",
        "    self.prop1 += 1    \r\n",
        "\r\n",
        "class test2(test):\r\n",
        "  pass    "
      ],
      "execution_count": 32,
      "outputs": []
    },
    {
      "cell_type": "code",
      "metadata": {
        "colab": {
          "base_uri": "https://localhost:8080/",
          "height": 86
        },
        "id": "Xxo_TgsLMySk",
        "outputId": "41fe94ab-603b-4e8f-a2da-6d82dedf2ab0"
      },
      "source": [
        "\r\n",
        "#test.ch(test)\r\n",
        "t2= test2()\r\n",
        "for i in range(10):\r\n",
        "  t2.ch()\r\n",
        "\r\n",
        "print(t2.prop1)\r\n",
        "print(\"------\")\r\n",
        "\r\n",
        "'''\r\n",
        "t=test()\r\n",
        "t1= test()\r\n",
        "print(t.prop1== t.prop1)\r\n",
        "print(t.prop1 is t1.prop1)\r\n",
        "print(t is t1)\r\n",
        "#t.ch()\r\n",
        "print(t.prop1)\r\n",
        "print(t.prop1 is t1.prop1)\r\n",
        "'''"
      ],
      "execution_count": 34,
      "outputs": [
        {
          "output_type": "stream",
          "text": [
            "133\n",
            "------\n"
          ],
          "name": "stdout"
        },
        {
          "output_type": "execute_result",
          "data": {
            "application/vnd.google.colaboratory.intrinsic+json": {
              "type": "string"
            },
            "text/plain": [
              "'\\nt=test()\\nt1= test()\\nprint(t.prop1== t.prop1)\\nprint(t.prop1 is t1.prop1)\\nprint(t is t1)\\n#t.ch()\\nprint(t.prop1)\\nprint(t.prop1 is t1.prop1)\\n'"
            ]
          },
          "metadata": {
            "tags": []
          },
          "execution_count": 34
        }
      ]
    }
  ]
}